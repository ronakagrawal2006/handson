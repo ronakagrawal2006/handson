{
 "cells": [
  {
   "cell_type": "code",
   "execution_count": 139,
   "id": "every-spirit",
   "metadata": {},
   "outputs": [],
   "source": [
    "import pandas as pd\n",
    "from IPython.core.interactiveshell import InteractiveShell\n",
    "InteractiveShell.ast_node_interactivity = \"all\"\n"
   ]
  },
  {
   "cell_type": "code",
   "execution_count": 140,
   "id": "scheduled-vintage",
   "metadata": {},
   "outputs": [
    {
     "data": {
      "text/html": [
       "<div>\n",
       "<style scoped>\n",
       "    .dataframe tbody tr th:only-of-type {\n",
       "        vertical-align: middle;\n",
       "    }\n",
       "\n",
       "    .dataframe tbody tr th {\n",
       "        vertical-align: top;\n",
       "    }\n",
       "\n",
       "    .dataframe thead th {\n",
       "        text-align: right;\n",
       "    }\n",
       "</style>\n",
       "<table border=\"1\" class=\"dataframe\">\n",
       "  <thead>\n",
       "    <tr style=\"text-align: right;\">\n",
       "      <th></th>\n",
       "      <th>_id</th>\n",
       "      <th>companies</th>\n",
       "    </tr>\n",
       "  </thead>\n",
       "  <tbody>\n",
       "    <tr>\n",
       "      <th>0</th>\n",
       "      <td>42.0</td>\n",
       "      <td>[]</td>\n",
       "    </tr>\n",
       "    <tr>\n",
       "      <th>1</th>\n",
       "      <td>110.0</td>\n",
       "      <td>['Sensetime']</td>\n",
       "    </tr>\n",
       "  </tbody>\n",
       "</table>\n",
       "</div>"
      ],
      "text/plain": [
       "     _id      companies\n",
       "0   42.0             []\n",
       "1  110.0  ['Sensetime']"
      ]
     },
     "execution_count": 140,
     "metadata": {},
     "output_type": "execute_result"
    }
   ],
   "source": [
    "marked_data_vn=pd.read_csv('marked_data_vn.csv')\n",
    "marked_data_vn.head(2)"
   ]
  },
  {
   "cell_type": "code",
   "execution_count": 142,
   "id": "clinical-bathroom",
   "metadata": {},
   "outputs": [
    {
     "data": {
      "text/html": [
       "<div>\n",
       "<style scoped>\n",
       "    .dataframe tbody tr th:only-of-type {\n",
       "        vertical-align: middle;\n",
       "    }\n",
       "\n",
       "    .dataframe tbody tr th {\n",
       "        vertical-align: top;\n",
       "    }\n",
       "\n",
       "    .dataframe thead th {\n",
       "        text-align: right;\n",
       "    }\n",
       "</style>\n",
       "<table border=\"1\" class=\"dataframe\">\n",
       "  <thead>\n",
       "    <tr style=\"text-align: right;\">\n",
       "      <th></th>\n",
       "      <th>_id</th>\n",
       "      <th>identified_companies</th>\n",
       "    </tr>\n",
       "  </thead>\n",
       "  <tbody>\n",
       "    <tr>\n",
       "      <th>0</th>\n",
       "      <td>1</td>\n",
       "      <td>['Tesla Motors', 'Xpeng Motors']</td>\n",
       "    </tr>\n",
       "    <tr>\n",
       "      <th>1</th>\n",
       "      <td>2</td>\n",
       "      <td>[]</td>\n",
       "    </tr>\n",
       "  </tbody>\n",
       "</table>\n",
       "</div>"
      ],
      "text/plain": [
       "   _id              identified_companies\n",
       "0    1  ['Tesla Motors', 'Xpeng Motors']\n",
       "1    2                                []"
      ]
     },
     "execution_count": 142,
     "metadata": {},
     "output_type": "execute_result"
    }
   ],
   "source": [
    "run_op_v1=pd.read_csv('run_op_v1.csv')\n",
    "run_op_v1.head(2)"
   ]
  },
  {
   "cell_type": "code",
   "execution_count": 146,
   "id": "assigned-whale",
   "metadata": {},
   "outputs": [
    {
     "data": {
      "text/html": [
       "<div>\n",
       "<style scoped>\n",
       "    .dataframe tbody tr th:only-of-type {\n",
       "        vertical-align: middle;\n",
       "    }\n",
       "\n",
       "    .dataframe tbody tr th {\n",
       "        vertical-align: top;\n",
       "    }\n",
       "\n",
       "    .dataframe thead th {\n",
       "        text-align: right;\n",
       "    }\n",
       "</style>\n",
       "<table border=\"1\" class=\"dataframe\">\n",
       "  <thead>\n",
       "    <tr style=\"text-align: right;\">\n",
       "      <th></th>\n",
       "      <th>_id</th>\n",
       "      <th>companies</th>\n",
       "      <th>identified_companies</th>\n",
       "    </tr>\n",
       "  </thead>\n",
       "  <tbody>\n",
       "    <tr>\n",
       "      <th>0</th>\n",
       "      <td>42.0</td>\n",
       "      <td>[]</td>\n",
       "      <td>[]</td>\n",
       "    </tr>\n",
       "    <tr>\n",
       "      <th>1</th>\n",
       "      <td>110.0</td>\n",
       "      <td>[Sensetime]</td>\n",
       "      <td>[]</td>\n",
       "    </tr>\n",
       "    <tr>\n",
       "      <th>2</th>\n",
       "      <td>38.0</td>\n",
       "      <td>[Telefónica]</td>\n",
       "      <td>[Telefónica]</td>\n",
       "    </tr>\n",
       "    <tr>\n",
       "      <th>3</th>\n",
       "      <td>17.0</td>\n",
       "      <td>[Nvidia]</td>\n",
       "      <td>[Nvidia]</td>\n",
       "    </tr>\n",
       "    <tr>\n",
       "      <th>4</th>\n",
       "      <td>111.0</td>\n",
       "      <td>[]</td>\n",
       "      <td>[Corsair Capital LLC, Minerals Technologies Inc.]</td>\n",
       "    </tr>\n",
       "  </tbody>\n",
       "</table>\n",
       "</div>"
      ],
      "text/plain": [
       "     _id     companies                               identified_companies\n",
       "0   42.0            []                                                 []\n",
       "1  110.0   [Sensetime]                                                 []\n",
       "2   38.0  [Telefónica]                                       [Telefónica]\n",
       "3   17.0      [Nvidia]                                           [Nvidia]\n",
       "4  111.0            []  [Corsair Capital LLC, Minerals Technologies Inc.]"
      ]
     },
     "execution_count": 146,
     "metadata": {},
     "output_type": "execute_result"
    }
   ],
   "source": [
    "score_raw_v1=marked_data_vn.merge(run_op_v1,how='left')\n",
    "from ast import literal_eval\n",
    "score_raw_v1['identified_companies']=score_raw_v1['identified_companies'].apply(literal_eval)\n",
    "score_raw_v1['companies']=score_raw_v1['companies'].apply(literal_eval)\n",
    "score_raw_v1.loc[:,'companies']=score_raw_v1['companies'].apply(lambda x: sorted(x))\n",
    "score_raw_v1.loc[:,'identified_companies']=score_raw_v1.apply(lambda x: sorted(x['identified_companies']),axis=1)\n",
    "score_raw_v1[['_id','companies','identified_companies']].head(5)"
   ]
  },
  {
   "cell_type": "code",
   "execution_count": 147,
   "id": "accompanied-tunnel",
   "metadata": {},
   "outputs": [
    {
     "data": {
      "text/plain": [
       "MultiLabelBinarizer()"
      ]
     },
     "execution_count": 147,
     "metadata": {},
     "output_type": "execute_result"
    },
    {
     "data": {
      "text/plain": [
       "array(['AlloVir', 'Alta Equipment', 'Amazon', 'Amplitude Surgical',\n",
       "       'Amul', 'Bermekimab', 'Bridge stone', 'Catalant',\n",
       "       'Checkmate Pharmaceuticals', 'Compulink Technologies',\n",
       "       'Corsair Capital LLC', 'Dominion', \"Domino's Pizza\",\n",
       "       'Editas Medicine', 'Eventbrite', 'Facebook', 'Feenics',\n",
       "       'Fidelity Investments', 'Franklin Templeton Investments',\n",
       "       'Freshworks', 'Gencor', 'Golden West Food', 'Kodak',\n",
       "       'L3Harris L3Harris Technologies', 'Legg Mason', 'MSTS',\n",
       "       'Marvell Technology Group', 'Microsft.com',\n",
       "       'Minerals Technologies Inc.',\n",
       "       'Morgan Stanley Investment banking company', 'NIH', 'Nokia ',\n",
       "       'Nordea', 'Nvidia', 'P.c.b Technologies', 'Sensetime',\n",
       "       'TTM Technologies', 'Telefónica', 'Tesla Motors', 'Tiktok',\n",
       "       'United Community Banks Ltd.', 'Wine', 'XBiotech', 'XCMG Company',\n",
       "       'Xpeng Motors', 'Zilliqa Research Pte. Ltd.'], dtype=object)"
      ]
     },
     "execution_count": 147,
     "metadata": {},
     "output_type": "execute_result"
    },
    {
     "data": {
      "text/plain": [
       "0.39936006022962545"
      ]
     },
     "execution_count": 147,
     "metadata": {},
     "output_type": "execute_result"
    }
   ],
   "source": [
    "from sklearn.preprocessing import MultiLabelBinarizer\n",
    "mlb = MultiLabelBinarizer()\n",
    "mlb.fit(master_company_raw_v1['name'].values.reshape(-1,1))\n",
    "mlb.classes_\n",
    "\n",
    "master_company_raw_v1=pd.read_csv('master_company_sheet.csv')\n",
    "def get_score(score_raw_v1):\n",
    "    score=f1_score(mlb.transform(score_raw_v1['companies'].values),\n",
    "             mlb.transform(score_raw_v1['identified_companies'].values),\n",
    "             average='macro',zero_division=0)\n",
    "    return score\n",
    "get_score(score_raw_v1)\n",
    "\n"
   ]
  },
  {
   "cell_type": "code",
   "execution_count": null,
   "id": "featured-tobago",
   "metadata": {},
   "outputs": [],
   "source": []
  },
  {
   "cell_type": "code",
   "execution_count": null,
   "id": "lucky-conducting",
   "metadata": {},
   "outputs": [],
   "source": []
  }
 ],
 "metadata": {
  "kernelspec": {
   "display_name": "customer",
   "language": "python",
   "name": "customer"
  },
  "language_info": {
   "codemirror_mode": {
    "name": "ipython",
    "version": 3
   },
   "file_extension": ".py",
   "mimetype": "text/x-python",
   "name": "python",
   "nbconvert_exporter": "python",
   "pygments_lexer": "ipython3",
   "version": "3.7.5"
  }
 },
 "nbformat": 4,
 "nbformat_minor": 5
}
