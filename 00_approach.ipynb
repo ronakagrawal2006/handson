{
 "cells": [
  {
   "cell_type": "markdown",
   "id": "pacific-panama",
   "metadata": {},
   "source": [
    "### Understanding what is the objective and the ask"
   ]
  },
  {
   "cell_type": "markdown",
   "id": "direct-villa",
   "metadata": {},
   "source": [
    "#### Ask"
   ]
  },
  {
   "cell_type": "markdown",
   "id": "hispanic-classroom",
   "metadata": {},
   "source": [
    "**Problem Statement**\n",
    "\n",
    "There are three sheets attached to this assignment. \n",
    "\n",
    "news-data(X1) has unstructured data extracted from the internet. \n",
    "\n",
    "master-company-sheet(X2) has company information like name, _id.\n",
    "\n",
    "output-sheet is having columns like blog_id, company_ids, title, description\n",
    "\n",
    "**Objective**\n",
    "\n",
    "We are interested in matching companies mentioned in the news articles(refer title, description) with the companies from the master-sheet. For all the matched articles, the output-sheet should be updated with the relevant information."
   ]
  },
  {
   "cell_type": "markdown",
   "id": "mathematical-bible",
   "metadata": {},
   "source": [
    "### Interpretation of the Ask/Problem"
   ]
  },
  {
   "cell_type": "markdown",
   "id": "atomic-quality",
   "metadata": {},
   "source": [
    "1. Given title, description for company/ies in each blog- tag the blog to the companies from the pre-existing list of companies\n",
    "2. Post Match - Enrich the table to include relevant information(title and description) from the news article as is."
   ]
  },
  {
   "cell_type": "code",
   "execution_count": 28,
   "id": "closing-rally",
   "metadata": {},
   "outputs": [
    {
     "data": {
      "text/plain": [
       "('title', 6)"
      ]
     },
     "execution_count": 28,
     "metadata": {},
     "output_type": "execute_result"
    },
    {
     "data": {
      "text/plain": [
       "('title', 'Amazon Analysts Raise Price Targets After Stellar Q2 Results')"
      ]
     },
     "execution_count": 28,
     "metadata": {},
     "output_type": "execute_result"
    },
    {
     "data": {
      "text/plain": [
       "('description',\n",
       " 'Consumers flocked to Amazon for shopping, as the coronavirus pandemic stranded them at home. And businesses increasingly used the cloud.')"
      ]
     },
     "execution_count": 28,
     "metadata": {},
     "output_type": "execute_result"
    }
   ],
   "source": [
    "from IPython.core.interactiveshell import InteractiveShell\n",
    "InteractiveShell.ast_node_interactivity = \"all\"\n",
    "import pandas as pd\n",
    "news_data_raw_v1=pd.read_csv('news_data.csv')\n",
    "'title',news_data_raw_v1.iloc[5]['_id']\n",
    "'title',news_data_raw_v1.iloc[5]['title']\n",
    "'description',news_data_raw_v1.iloc[5]['description']\n"
   ]
  },
  {
   "cell_type": "code",
   "execution_count": 26,
   "id": "interstate-private",
   "metadata": {
    "jupyter": {
     "source_hidden": true
    }
   },
   "outputs": [
    {
     "data": {
      "text/html": [
       "<div>\n",
       "<style scoped>\n",
       "    .dataframe tbody tr th:only-of-type {\n",
       "        vertical-align: middle;\n",
       "    }\n",
       "\n",
       "    .dataframe tbody tr th {\n",
       "        vertical-align: top;\n",
       "    }\n",
       "\n",
       "    .dataframe thead th {\n",
       "        text-align: right;\n",
       "    }\n",
       "</style>\n",
       "<table border=\"1\" class=\"dataframe\">\n",
       "  <thead>\n",
       "    <tr style=\"text-align: right;\">\n",
       "      <th></th>\n",
       "      <th>blog_id</th>\n",
       "      <th>title</th>\n",
       "      <th>description</th>\n",
       "      <th>company_ids</th>\n",
       "      <th>company_names</th>\n",
       "    </tr>\n",
       "  </thead>\n",
       "  <tbody>\n",
       "    <tr>\n",
       "      <th>0</th>\n",
       "      <td>6</td>\n",
       "      <td>Amazon Analysts Raise Price Targets After Stellar Q2 Results</td>\n",
       "      <td>Consumers flocked to Amazon for shopping, as the coronavirus pandemic stranded them at home. And...</td>\n",
       "      <td>[36]</td>\n",
       "      <td>[Amazon]</td>\n",
       "    </tr>\n",
       "  </tbody>\n",
       "</table>\n",
       "</div>"
      ],
      "text/plain": [
       "  blog_id                                                         title  \\\n",
       "0       6  Amazon Analysts Raise Price Targets After Stellar Q2 Results   \n",
       "\n",
       "                                                                                           description  \\\n",
       "0  Consumers flocked to Amazon for shopping, as the coronavirus pandemic stranded them at home. And...   \n",
       "\n",
       "  company_ids company_names  \n",
       "0        [36]      [Amazon]  "
      ]
     },
     "execution_count": 26,
     "metadata": {},
     "output_type": "execute_result"
    }
   ],
   "source": [
    "op_v1=pd.DataFrame(\n",
    "(news_data_raw_v1.iloc[5]['_id'],news_data_raw_v1.iloc[5]['title'],news_data_raw_v1.iloc[5]['description'],[36],['Amazon'])\n",
    ").T\n",
    "op_v1.columns=['blog_id','title','description', 'company_ids','company_names']\n",
    "op_v1\n"
   ]
  },
  {
   "cell_type": "markdown",
   "id": "ethical-thumb",
   "metadata": {},
   "source": [
    "* The intelligent component would be the one to extract out Company Names from the title and/or description(assuming equal weights for both title and description) and populate the **company_ids** collection\n",
    "* In essence, the problem drill downs to **Extract out known(in the given list) company names from the free text columns(title & description)**"
   ]
  },
  {
   "cell_type": "markdown",
   "id": "registered-leader",
   "metadata": {},
   "source": [
    "Steps\n",
    "* Extract out all names\n",
    "* Stem"
   ]
  },
  {
   "cell_type": "markdown",
   "id": "neural-speaking",
   "metadata": {},
   "source": [
    "* Match between Company names from artcile\n",
    "* company names from master sheet\n",
    "* preprocess master sheet\n",
    "    - reduce\n",
    "        - stemmer\n",
    "        - lemmatizer\n",
    "    - increase\n",
    "        - abbrevations\n",
    "        -\n",
    "* preprocess article\n",
    "* scoring?\n",
    "* \n",
    "\n",
    "* Likely Cases\n",
    "    TP - Company name present and identified\n",
    "    TN - Not Present - Not identified\n",
    "    FP - Not Preset - Identified\n",
    "    FN - Present - Not Identified\n",
    "        - we dont know ground truth.\n",
    "        \n",
    "\n",
    "* Company names with very similar names - disambiguation\n",
    "    - disambiguation -  company associated with a specific context - using theme\n",
    "    - disambiguation -  company associated with a specific recency - using published time\n",
    "    - disambiguation -  company associated with a associated companies - using closest companies??\n",
    "        \n",
    "    \n",
    "* Company names with abbrevations\n",
    "* Multi Word company name?\n",
    "\n",
    "\n"
   ]
  },
  {
   "cell_type": "code",
   "execution_count": null,
   "id": "searching-snake",
   "metadata": {},
   "outputs": [],
   "source": []
  }
 ],
 "metadata": {
  "kernelspec": {
   "display_name": "customer",
   "language": "python",
   "name": "customer"
  },
  "language_info": {
   "codemirror_mode": {
    "name": "ipython",
    "version": 3
   },
   "file_extension": ".py",
   "mimetype": "text/x-python",
   "name": "python",
   "nbconvert_exporter": "python",
   "pygments_lexer": "ipython3",
   "version": "3.7.5"
  }
 },
 "nbformat": 4,
 "nbformat_minor": 5
}
