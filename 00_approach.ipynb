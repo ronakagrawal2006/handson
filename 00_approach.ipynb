{
 "cells": [
  {
   "cell_type": "markdown",
   "id": "extensive-portable",
   "metadata": {},
   "source": [
    "### Understanding what is the objective and the ask"
   ]
  },
  {
   "cell_type": "markdown",
   "id": "peripheral-orange",
   "metadata": {},
   "source": [
    "Steps\n",
    "* Extract out all names\n",
    "* Stem"
   ]
  },
  {
   "cell_type": "markdown",
   "id": "golden-battery",
   "metadata": {},
   "source": [
    "* Match between Company names from artcile\n",
    "* company names from master sheet\n",
    "* preprocess master sheet\n",
    "    - reduce\n",
    "        - stemmer\n",
    "        - lemmatizer\n",
    "    - increase\n",
    "        - abbrevations\n",
    "        -\n",
    "* preprocess article\n",
    "* scoring?\n",
    "* \n",
    "\n",
    "* Likely Cases\n",
    "    TP - Company name present and identified\n",
    "    TN - Not Present - Not identified\n",
    "    FP - Not Preset - Identified\n",
    "    FN - Present - Not Identified\n",
    "        - we dont know ground truth.\n",
    "        \n",
    "\n",
    "* Company names with very similar names - disambiguation\n",
    "    - disambiguation -  company associated with a specific context - using theme\n",
    "    - disambiguation -  company associated with a specific recency - using published time\n",
    "    - disambiguation -  company associated with a associated companies - using closest companies??\n",
    "        \n",
    "    \n",
    "* Company names with abbrevations\n",
    "* Multi Word company name?\n",
    "\n",
    "\n"
   ]
  },
  {
   "cell_type": "code",
   "execution_count": null,
   "id": "coordinated-equivalent",
   "metadata": {},
   "outputs": [],
   "source": []
  }
 ],
 "metadata": {
  "kernelspec": {
   "display_name": "customer",
   "language": "python",
   "name": "customer"
  },
  "language_info": {
   "codemirror_mode": {
    "name": "ipython",
    "version": 3
   },
   "file_extension": ".py",
   "mimetype": "text/x-python",
   "name": "python",
   "nbconvert_exporter": "python",
   "pygments_lexer": "ipython3",
   "version": "3.7.5"
  }
 },
 "nbformat": 4,
 "nbformat_minor": 5
}
