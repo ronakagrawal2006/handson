{
 "cells": [
  {
   "cell_type": "code",
   "execution_count": 2,
   "id": "genetic-stocks",
   "metadata": {},
   "outputs": [],
   "source": [
    "from fuzzywuzzy import fuzz"
   ]
  },
  {
   "cell_type": "code",
   "execution_count": 7,
   "id": "addressed-remove",
   "metadata": {},
   "outputs": [],
   "source": [
    "from fuzzywuzzy import process\n",
    "import pandas as pd"
   ]
  },
  {
   "cell_type": "code",
   "execution_count": 8,
   "id": "quiet-mineral",
   "metadata": {},
   "outputs": [],
   "source": [
    "to_search='Microsft.com'"
   ]
  },
  {
   "cell_type": "code",
   "execution_count": 9,
   "id": "knowing-review",
   "metadata": {},
   "outputs": [],
   "source": [
    "set_to_search=['Tesla', 'CNBC']"
   ]
  },
  {
   "cell_type": "code",
   "execution_count": 10,
   "id": "compact-science",
   "metadata": {},
   "outputs": [],
   "source": [
    "master_company_raw_v1=pd.read_csv('master_company_sheet.csv')"
   ]
  },
  {
   "cell_type": "code",
   "execution_count": null,
   "id": "impressive-catering",
   "metadata": {},
   "outputs": [],
   "source": [
    "choices = [\"Atlanta Falcons\", \"New York Jets\", \"New York Giants\", \"Dallas Cowboys\"]\n",
    ">>> process.extract(\"new york jets\", choices, limit=2)\n",
    "    [('New York Jets', 100), ('New York Giants', 78)]"
   ]
  },
  {
   "cell_type": "code",
   "execution_count": 13,
   "id": "systematic-product",
   "metadata": {},
   "outputs": [],
   "source": [
    "choices=master_company_raw_v1['name'].values"
   ]
  },
  {
   "cell_type": "code",
   "execution_count": 17,
   "id": "technical-seattle",
   "metadata": {},
   "outputs": [
    {
     "data": {
      "text/plain": [
       "[('TTM Technologies', 62),\n",
       " ('Marvell Technology Group', 62),\n",
       " ('P.c.b Technologies', 60),\n",
       " ('Minerals Technologies Inc.', 58),\n",
       " ('Compulink Technologies', 57)]"
      ]
     },
     "execution_count": 17,
     "metadata": {},
     "output_type": "execute_result"
    }
   ],
   "source": [
    "process.extract(\"Multi Service Technology Solutions\", choices)"
   ]
  },
  {
   "cell_type": "code",
   "execution_count": null,
   "id": "unnecessary-hardwood",
   "metadata": {},
   "outputs": [],
   "source": []
  }
 ],
 "metadata": {
  "kernelspec": {
   "display_name": "customer",
   "language": "python",
   "name": "customer"
  },
  "language_info": {
   "codemirror_mode": {
    "name": "ipython",
    "version": 3
   },
   "file_extension": ".py",
   "mimetype": "text/x-python",
   "name": "python",
   "nbconvert_exporter": "python",
   "pygments_lexer": "ipython3",
   "version": "3.7.5"
  }
 },
 "nbformat": 4,
 "nbformat_minor": 5
}
