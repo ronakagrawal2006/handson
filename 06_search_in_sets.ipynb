{
 "cells": [
  {
   "cell_type": "code",
   "execution_count": 2,
   "id": "handled-target",
   "metadata": {},
   "outputs": [],
   "source": [
    "from fuzzywuzzy import fuzz"
   ]
  },
  {
   "cell_type": "code",
   "execution_count": 7,
   "id": "actual-policy",
   "metadata": {},
   "outputs": [],
   "source": [
    "from fuzzywuzzy import process\n",
    "import pandas as pd"
   ]
  },
  {
   "cell_type": "code",
   "execution_count": 8,
   "id": "sophisticated-template",
   "metadata": {},
   "outputs": [],
   "source": [
    "to_search='Microsft.com'"
   ]
  },
  {
   "cell_type": "code",
   "execution_count": 9,
   "id": "medium-literature",
   "metadata": {},
   "outputs": [],
   "source": [
    "set_to_search=['Tesla', 'CNBC']"
   ]
  },
  {
   "cell_type": "code",
   "execution_count": 10,
   "id": "binding-hebrew",
   "metadata": {},
   "outputs": [],
   "source": [
    "master_company_raw_v1=pd.read_csv('master_company_sheet.csv')"
   ]
  },
  {
   "cell_type": "code",
   "execution_count": null,
   "id": "limited-kernel",
   "metadata": {},
   "outputs": [],
   "source": [
    "choices=master_company_raw_v1['name'].values\n",
    "name,score=process.extract(\"Alta Equipment Group Inc\", choices,limit=1)[0]"
   ]
  },
  {
   "cell_type": "code",
   "execution_count": null,
   "id": "billion-valve",
   "metadata": {},
   "outputs": [],
   "source": []
  }
 ],
 "metadata": {
  "kernelspec": {
   "display_name": "customer",
   "language": "python",
   "name": "customer"
  },
  "language_info": {
   "codemirror_mode": {
    "name": "ipython",
    "version": 3
   },
   "file_extension": ".py",
   "mimetype": "text/x-python",
   "name": "python",
   "nbconvert_exporter": "python",
   "pygments_lexer": "ipython3",
   "version": "3.7.5"
  }
 },
 "nbformat": 4,
 "nbformat_minor": 5
}
