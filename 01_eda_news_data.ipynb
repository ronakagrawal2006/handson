{
 "cells": [
  {
   "cell_type": "code",
   "execution_count": 33,
   "id": "furnished-honey",
   "metadata": {},
   "outputs": [
    {
     "data": {
      "text/plain": [
       "('title', 6)"
      ]
     },
     "execution_count": 33,
     "metadata": {},
     "output_type": "execute_result"
    },
    {
     "data": {
      "text/plain": [
       "('title', 'Amazon Analysts Raise Price Targets After Stellar Q2 Results')"
      ]
     },
     "execution_count": 33,
     "metadata": {},
     "output_type": "execute_result"
    },
    {
     "data": {
      "text/plain": [
       "('description',\n",
       " 'Consumers flocked to Amazon for shopping, as the coronavirus pandemic stranded them at home. And businesses increasingly used the cloud.')"
      ]
     },
     "execution_count": 33,
     "metadata": {},
     "output_type": "execute_result"
    }
   ],
   "source": [
    "from IPython.core.interactiveshell import InteractiveShell\n",
    "InteractiveShell.ast_node_interactivity = \"all\"\n",
    "import pandas as pd\n",
    "\n",
    "# 'title',news_data_raw_v1.iloc[5]['_id']\n",
    "# 'title',news_data_raw_v1.iloc[5]['title']\n",
    "# 'description',news_data_raw_v1.iloc[5]['description']\n"
   ]
  },
  {
   "cell_type": "code",
   "execution_count": 17,
   "id": "invisible-speaking",
   "metadata": {},
   "outputs": [
    {
     "data": {
      "text/plain": [
       "bing    113\n",
       "Name: source, dtype: int64"
      ]
     },
     "execution_count": 17,
     "metadata": {},
     "output_type": "execute_result"
    },
    {
     "data": {
      "text/plain": [
       "'drop **source** as everything is source=bing, no information gain'"
      ]
     },
     "execution_count": 17,
     "metadata": {},
     "output_type": "execute_result"
    }
   ],
   "source": [
    "news_data_raw_v1=pd.read_csv('news_data.csv')\n",
    "\n",
    "#source\n",
    "news_data_raw_v1.source.value_counts(dropna=False)\n",
    "news_data_raw_v1.drop(['source'],axis=1,inplace=True)# \n",
    "f'drop **source** as everything is source=bing, no information gain'\n"
   ]
  },
  {
   "cell_type": "markdown",
   "id": "familiar-plaintiff",
   "metadata": {},
   "source": [
    "#### theme"
   ]
  },
  {
   "cell_type": "code",
   "execution_count": 13,
   "id": "revolutionary-incidence",
   "metadata": {},
   "outputs": [
    {
     "data": {
      "text/plain": [
       "<AxesSubplot:title={'center':'articles per theme'}>"
      ]
     },
     "execution_count": 13,
     "metadata": {},
     "output_type": "execute_result"
    },
    {
     "data": {
      "image/png": "[encoded data removed]",
      "text/plain": [
       "<Figure size 432x288 with 1 Axes>"
      ]
     },
     "metadata": {
      "needs_background": "light"
     },
     "output_type": "display_data"
    }
   ],
   "source": [
    "news_data_raw_v1.theme.value_counts(dropna=False).plot(kind='bar',title='articles per theme')"
   ]
  },
  {
   "cell_type": "markdown",
   "id": "systematic-discretion",
   "metadata": {},
   "source": [
    "#### Insights from the plot above:\n",
    "1. can basically see 3 groups from a coverage point of view for content. Not evey theme as equal coverage. This might impact the score for compaines with lower coverage\n",
    "\n",
    " - coverage high for ['acquisition','funding','executive_movements'],\n",
    " - coverage moderate for [product_launches,leadership_changes,technologies,ipos],\n",
    " - coverage low for others.\n",
    " \n",
    "##### Assumption\n",
    "    - Theme coverage is directly realted to company coverage\n",
    "\n",
    "#### Action-\n",
    "The scoring metric should be able to handle imbalaced cases\n"
   ]
  },
  {
   "cell_type": "markdown",
   "id": "thermal-standing",
   "metadata": {},
   "source": [
    "#### time"
   ]
  },
  {
   "cell_type": "code",
   "execution_count": 36,
   "id": "respected-passenger",
   "metadata": {},
   "outputs": [
    {
     "data": {
      "text/plain": [
       "<AxesSubplot:title={'center':'different days published'}>"
      ]
     },
     "execution_count": 36,
     "metadata": {},
     "output_type": "execute_result"
    },
    {
     "data": {
      "image/png": "[encoded data removed]",
      "text/plain": [
       "<Figure size 432x288 with 1 Axes>"
      ]
     },
     "metadata": {
      "needs_background": "light"
     },
     "output_type": "display_data"
    },
    {
     "data": {
      "text/plain": [
       "<AxesSubplot:title={'center':'different hours published'}>"
      ]
     },
     "execution_count": 36,
     "metadata": {},
     "output_type": "execute_result"
    },
    {
     "data": {
      "image/png": "[encoded data removed]",
      "text/plain": [
       "<Figure size 432x288 with 1 Axes>"
      ]
     },
     "metadata": {
      "needs_background": "light"
     },
     "output_type": "display_data"
    }
   ],
   "source": [
    "%matplotlib inline\n",
    "import matplotlib.pyplot as plt\n",
    "news_data_raw_v1.loc[:,'published_on']=pd.to_datetime(news_data_raw_v1['published_on'])\n",
    "news_data_raw_v1.loc[:,'dayofyear']=news_data_raw_v1['published_on'].dt.dayofyear\n",
    "\n",
    "news_data_raw_v1['dayofyear'].value_counts().plot(kind='bar',title='different days published')\n",
    "plt.show()\n",
    "#not useful\n",
    "\n",
    "news_data_raw_v1.loc[:,'hourofday']=news_data_raw_v1['published_on'].dt.hour\n",
    "news_data_raw_v1['hourofday'].value_counts().sort_index().plot(kind='bar',title='different hours published')"
   ]
  },
  {
   "cell_type": "code",
   "execution_count": 37,
   "id": "mechanical-heading",
   "metadata": {},
   "outputs": [],
   "source": [
    "import seaborn as sns"
   ]
  },
  {
   "cell_type": "code",
   "execution_count": 46,
   "id": "weird-aurora",
   "metadata": {},
   "outputs": [
    {
     "data": {
      "text/html": [
       "<div>\n",
       "<style scoped>\n",
       "    .dataframe tbody tr th:only-of-type {\n",
       "        vertical-align: middle;\n",
       "    }\n",
       "\n",
       "    .dataframe tbody tr th {\n",
       "        vertical-align: top;\n",
       "    }\n",
       "\n",
       "    .dataframe thead th {\n",
       "        text-align: right;\n",
       "    }\n",
       "</style>\n",
       "<table border=\"1\" class=\"dataframe\">\n",
       "  <thead>\n",
       "    <tr style=\"text-align: right;\">\n",
       "      <th></th>\n",
       "      <th>theme</th>\n",
       "      <th>hourofday</th>\n",
       "      <th>count</th>\n",
       "    </tr>\n",
       "  </thead>\n",
       "  <tbody>\n",
       "    <tr>\n",
       "      <th>0</th>\n",
       "      <td>acquisition</td>\n",
       "      <td>0</td>\n",
       "      <td>1</td>\n",
       "    </tr>\n",
       "    <tr>\n",
       "      <th>1</th>\n",
       "      <td>acquisition</td>\n",
       "      <td>1</td>\n",
       "      <td>1</td>\n",
       "    </tr>\n",
       "    <tr>\n",
       "      <th>2</th>\n",
       "      <td>acquisition</td>\n",
       "      <td>4</td>\n",
       "      <td>2</td>\n",
       "    </tr>\n",
       "    <tr>\n",
       "      <th>3</th>\n",
       "      <td>acquisition</td>\n",
       "      <td>5</td>\n",
       "      <td>3</td>\n",
       "    </tr>\n",
       "    <tr>\n",
       "      <th>4</th>\n",
       "      <td>acquisition</td>\n",
       "      <td>6</td>\n",
       "      <td>2</td>\n",
       "    </tr>\n",
       "    <tr>\n",
       "      <th>...</th>\n",
       "      <td>...</td>\n",
       "      <td>...</td>\n",
       "      <td>...</td>\n",
       "    </tr>\n",
       "    <tr>\n",
       "      <th>61</th>\n",
       "      <td>technologies</td>\n",
       "      <td>17</td>\n",
       "      <td>1</td>\n",
       "    </tr>\n",
       "    <tr>\n",
       "      <th>62</th>\n",
       "      <td>technologies</td>\n",
       "      <td>18</td>\n",
       "      <td>2</td>\n",
       "    </tr>\n",
       "    <tr>\n",
       "      <th>63</th>\n",
       "      <td>technologies</td>\n",
       "      <td>19</td>\n",
       "      <td>2</td>\n",
       "    </tr>\n",
       "    <tr>\n",
       "      <th>64</th>\n",
       "      <td>technologies</td>\n",
       "      <td>21</td>\n",
       "      <td>1</td>\n",
       "    </tr>\n",
       "    <tr>\n",
       "      <th>65</th>\n",
       "      <td>technologies</td>\n",
       "      <td>22</td>\n",
       "      <td>1</td>\n",
       "    </tr>\n",
       "  </tbody>\n",
       "</table>\n",
       "<p>66 rows × 3 columns</p>\n",
       "</div>"
      ],
      "text/plain": [
       "           theme  hourofday  count\n",
       "0    acquisition          0      1\n",
       "1    acquisition          1      1\n",
       "2    acquisition          4      2\n",
       "3    acquisition          5      3\n",
       "4    acquisition          6      2\n",
       "..           ...        ...    ...\n",
       "61  technologies         17      1\n",
       "62  technologies         18      2\n",
       "63  technologies         19      2\n",
       "64  technologies         21      1\n",
       "65  technologies         22      1\n",
       "\n",
       "[66 rows x 3 columns]"
      ]
     },
     "execution_count": 46,
     "metadata": {},
     "output_type": "execute_result"
    }
   ],
   "source": [
    "#looking for variation w.r.t hour in top categories of theme\n",
    "theme_hour_gp=news_data_raw_v1[~news_data_raw_v1['theme'].isin(['growth','expansion','partnerships'])].groupby(['theme','hourofday']).size().reset_index(name='count')\n",
    "theme_hour_gp"
   ]
  },
  {
   "cell_type": "markdown",
   "id": "expired-warren",
   "metadata": {},
   "source": [
    "#### time and theme"
   ]
  },
  {
   "cell_type": "code",
   "execution_count": 45,
   "id": "heated-administration",
   "metadata": {},
   "outputs": [
    {
     "data": {
      "text/plain": [
       "<AxesSubplot:xlabel='hourofday', ylabel='count'>"
      ]
     },
     "execution_count": 45,
     "metadata": {},
     "output_type": "execute_result"
    },
    {
     "data": {
      "image/png": "[encoded data removed]",
      "text/plain": [
       "<Figure size 432x288 with 1 Axes>"
      ]
     },
     "metadata": {
      "needs_background": "light"
     },
     "output_type": "display_data"
    }
   ],
   "source": [
    "sns.scatterplot(x='hourofday',y='count',hue='theme',data=theme_hour_gp)"
   ]
  },
  {
   "cell_type": "markdown",
   "id": "optimum-correction",
   "metadata": {},
   "source": [
    "* This is good variation. This could capture some infomration w.r.t on publishihing hour preference of certain themes\n",
    "\n",
    "Possible Insight:\n",
    "* If we are low on content for some companies of specific themes and if we have theme specific crawlers, **we could trigger scraping close to publishing hour. This would reduce delay in getting the information**. \n",
    "* Also, having theme specific crawlers would make sense given the volume for each theme is different. **Scaling, and resource assignment to crawler group can be different based on the scale of content published. Reduce infra cost**\n",
    "\n",
    "NOTE: We need to revisit this to concretize the assoication\n"
   ]
  },
  {
   "cell_type": "code",
   "execution_count": null,
   "id": "rocky-communication",
   "metadata": {},
   "outputs": [],
   "source": []
  },
  {
   "cell_type": "markdown",
   "id": "daily-kingston",
   "metadata": {},
   "source": [
    "#### description"
   ]
  },
  {
   "cell_type": "code",
   "execution_count": 47,
   "id": "precise-default",
   "metadata": {},
   "outputs": [
    {
     "data": {
      "text/html": [
       "<div>\n",
       "<style scoped>\n",
       "    .dataframe tbody tr th:only-of-type {\n",
       "        vertical-align: middle;\n",
       "    }\n",
       "\n",
       "    .dataframe tbody tr th {\n",
       "        vertical-align: top;\n",
       "    }\n",
       "\n",
       "    .dataframe thead th {\n",
       "        text-align: right;\n",
       "    }\n",
       "</style>\n",
       "<table border=\"1\" class=\"dataframe\">\n",
       "  <thead>\n",
       "    <tr style=\"text-align: right;\">\n",
       "      <th></th>\n",
       "      <th>_id</th>\n",
       "      <th>theme</th>\n",
       "      <th>title</th>\n",
       "      <th>description</th>\n",
       "      <th>published_on</th>\n",
       "      <th>dayofyear</th>\n",
       "      <th>hourofday</th>\n",
       "    </tr>\n",
       "  </thead>\n",
       "  <tbody>\n",
       "    <tr>\n",
       "      <th>0</th>\n",
       "      <td>1</td>\n",
       "      <td>funding</td>\n",
       "      <td>Chinese Tesla rival Xpeng Motors in talks over...</td>\n",
       "      <td>Xpeng Motors, one of Tesla's rivals in China, ...</td>\n",
       "      <td>2020-07-31 15:41:00+00:00</td>\n",
       "      <td>213</td>\n",
       "      <td>15</td>\n",
       "    </tr>\n",
       "    <tr>\n",
       "      <th>1</th>\n",
       "      <td>2</td>\n",
       "      <td>funding</td>\n",
       "      <td>Wine.com Seeks Funding at Valuation of More Th...</td>\n",
       "      <td>Wine.com, an online retailer that lets custome...</td>\n",
       "      <td>2020-08-01 00:02:00+00:00</td>\n",
       "      <td>214</td>\n",
       "      <td>0</td>\n",
       "    </tr>\n",
       "    <tr>\n",
       "      <th>2</th>\n",
       "      <td>3</td>\n",
       "      <td>funding</td>\n",
       "      <td>Fenwick-Led Telehealth Co. Raises $33M As Indu...</td>\n",
       "      <td>Fenwick-advised telehealth platform Lemonaid H...</td>\n",
       "      <td>2020-07-31 22:36:00+00:00</td>\n",
       "      <td>213</td>\n",
       "      <td>22</td>\n",
       "    </tr>\n",
       "    <tr>\n",
       "      <th>3</th>\n",
       "      <td>4</td>\n",
       "      <td>funding</td>\n",
       "      <td>United Community Banks (NASDAQ:UCBI) Raised to...</td>\n",
       "      <td>United Community Banks (NASDAQ:UCBI) was upgra...</td>\n",
       "      <td>2020-08-01 06:29:00+00:00</td>\n",
       "      <td>214</td>\n",
       "      <td>6</td>\n",
       "    </tr>\n",
       "    <tr>\n",
       "      <th>4</th>\n",
       "      <td>5</td>\n",
       "      <td>funding</td>\n",
       "      <td>Golden West Food Group, Cooks Venture Raise $1...</td>\n",
       "      <td>PRNewswire/ -- Golden West Food Group and Cook...</td>\n",
       "      <td>2020-07-31 18:47:00+00:00</td>\n",
       "      <td>213</td>\n",
       "      <td>18</td>\n",
       "    </tr>\n",
       "    <tr>\n",
       "      <th>...</th>\n",
       "      <td>...</td>\n",
       "      <td>...</td>\n",
       "      <td>...</td>\n",
       "      <td>...</td>\n",
       "      <td>...</td>\n",
       "      <td>...</td>\n",
       "      <td>...</td>\n",
       "    </tr>\n",
       "    <tr>\n",
       "      <th>108</th>\n",
       "      <td>109</td>\n",
       "      <td>ipos</td>\n",
       "      <td>AlloVir raises $276M IPO to run broad cell the...</td>\n",
       "      <td>AlloVir has raised $276 million in an upsized ...</td>\n",
       "      <td>2020-07-31 12:25:00+00:00</td>\n",
       "      <td>213</td>\n",
       "      <td>12</td>\n",
       "    </tr>\n",
       "    <tr>\n",
       "      <th>109</th>\n",
       "      <td>110</td>\n",
       "      <td>ipos</td>\n",
       "      <td>Exclusive: SenseTime eyes STAR market IPO afte...</td>\n",
       "      <td>Chinese start-up SenseTime is considering an i...</td>\n",
       "      <td>2020-07-31 10:48:00+00:00</td>\n",
       "      <td>213</td>\n",
       "      <td>10</td>\n",
       "    </tr>\n",
       "    <tr>\n",
       "      <th>110</th>\n",
       "      <td>111</td>\n",
       "      <td>ipos</td>\n",
       "      <td>Vital Farms shares soar 63% in trading debut a...</td>\n",
       "      <td>Shares of ethical food company Vital Farms Inc...</td>\n",
       "      <td>2020-07-31 16:45:00+00:00</td>\n",
       "      <td>213</td>\n",
       "      <td>16</td>\n",
       "    </tr>\n",
       "    <tr>\n",
       "      <th>111</th>\n",
       "      <td>112</td>\n",
       "      <td>ipos</td>\n",
       "      <td>Conscious agribusiness Vital Farms goes public</td>\n",
       "      <td>You can find their eggs in Whole Foods, Walmar...</td>\n",
       "      <td>2020-07-31 20:26:00+00:00</td>\n",
       "      <td>213</td>\n",
       "      <td>20</td>\n",
       "    </tr>\n",
       "    <tr>\n",
       "      <th>112</th>\n",
       "      <td>113</td>\n",
       "      <td>ipos</td>\n",
       "      <td>ESSA Pharma Completes Public Offering for Aggr...</td>\n",
       "      <td>ESSA Pharma Inc. (\"ESSA\", or the \"Company\") (N...</td>\n",
       "      <td>2020-07-31 14:21:00+00:00</td>\n",
       "      <td>213</td>\n",
       "      <td>14</td>\n",
       "    </tr>\n",
       "  </tbody>\n",
       "</table>\n",
       "<p>113 rows × 7 columns</p>\n",
       "</div>"
      ],
      "text/plain": [
       "     _id    theme                                              title  \\\n",
       "0      1  funding  Chinese Tesla rival Xpeng Motors in talks over...   \n",
       "1      2  funding  Wine.com Seeks Funding at Valuation of More Th...   \n",
       "2      3  funding  Fenwick-Led Telehealth Co. Raises $33M As Indu...   \n",
       "3      4  funding  United Community Banks (NASDAQ:UCBI) Raised to...   \n",
       "4      5  funding  Golden West Food Group, Cooks Venture Raise $1...   \n",
       "..   ...      ...                                                ...   \n",
       "108  109     ipos  AlloVir raises $276M IPO to run broad cell the...   \n",
       "109  110     ipos  Exclusive: SenseTime eyes STAR market IPO afte...   \n",
       "110  111     ipos  Vital Farms shares soar 63% in trading debut a...   \n",
       "111  112     ipos     Conscious agribusiness Vital Farms goes public   \n",
       "112  113     ipos  ESSA Pharma Completes Public Offering for Aggr...   \n",
       "\n",
       "                                           description  \\\n",
       "0    Xpeng Motors, one of Tesla's rivals in China, ...   \n",
       "1    Wine.com, an online retailer that lets custome...   \n",
       "2    Fenwick-advised telehealth platform Lemonaid H...   \n",
       "3    United Community Banks (NASDAQ:UCBI) was upgra...   \n",
       "4    PRNewswire/ -- Golden West Food Group and Cook...   \n",
       "..                                                 ...   \n",
       "108  AlloVir has raised $276 million in an upsized ...   \n",
       "109  Chinese start-up SenseTime is considering an i...   \n",
       "110  Shares of ethical food company Vital Farms Inc...   \n",
       "111  You can find their eggs in Whole Foods, Walmar...   \n",
       "112  ESSA Pharma Inc. (\"ESSA\", or the \"Company\") (N...   \n",
       "\n",
       "                 published_on  dayofyear  hourofday  \n",
       "0   2020-07-31 15:41:00+00:00        213         15  \n",
       "1   2020-08-01 00:02:00+00:00        214          0  \n",
       "2   2020-07-31 22:36:00+00:00        213         22  \n",
       "3   2020-08-01 06:29:00+00:00        214          6  \n",
       "4   2020-07-31 18:47:00+00:00        213         18  \n",
       "..                        ...        ...        ...  \n",
       "108 2020-07-31 12:25:00+00:00        213         12  \n",
       "109 2020-07-31 10:48:00+00:00        213         10  \n",
       "110 2020-07-31 16:45:00+00:00        213         16  \n",
       "111 2020-07-31 20:26:00+00:00        213         20  \n",
       "112 2020-07-31 14:21:00+00:00        213         14  \n",
       "\n",
       "[113 rows x 7 columns]"
      ]
     },
     "execution_count": 47,
     "metadata": {},
     "output_type": "execute_result"
    }
   ],
   "source": [
    "news_data_raw_v1"
   ]
  },
  {
   "cell_type": "code",
   "execution_count": 53,
   "id": "addressed-cooperation",
   "metadata": {},
   "outputs": [
    {
     "name": "stderr",
     "output_type": "stream",
     "text": [
      "/Users/ronak/anaconda3/envs/customer/lib/python3.7/site-packages/seaborn/distributions.py:2557: FutureWarning: `distplot` is a deprecated function and will be removed in a future version. Please adapt your code to use either `displot` (a figure-level function with similar flexibility) or `histplot` (an axes-level function for histograms).\n",
      "  warnings.warn(msg, FutureWarning)\n"
     ]
    },
    {
     "data": {
      "text/plain": [
       "Text(0.5, 1.0, 'title_len')"
      ]
     },
     "execution_count": 53,
     "metadata": {},
     "output_type": "execute_result"
    },
    {
     "data": {
      "image/png": "[encoded data removed]",
      "text/plain": [
       "<Figure size 432x288 with 1 Axes>"
      ]
     },
     "metadata": {
      "needs_background": "light"
     },
     "output_type": "display_data"
    }
   ],
   "source": [
    "news_data_raw_v1.loc[:,'title_len']=news_data_raw_v1['title'].apply(lambda x: len(x.split()))\n",
    "sns.distplot(news_data_raw_v1['title_len']).set_title('title_len')\n",
    "\n",
    "#title has a min_word length and a max word_length"
   ]
  },
  {
   "cell_type": "code",
   "execution_count": 60,
   "id": "convertible-paragraph",
   "metadata": {},
   "outputs": [
    {
     "name": "stderr",
     "output_type": "stream",
     "text": [
      "/Users/ronak/anaconda3/envs/customer/lib/python3.7/site-packages/seaborn/distributions.py:2557: FutureWarning: `distplot` is a deprecated function and will be removed in a future version. Please adapt your code to use either `displot` (a figure-level function with similar flexibility) or `histplot` (an axes-level function for histograms).\n",
      "  warnings.warn(msg, FutureWarning)\n"
     ]
    },
    {
     "data": {
      "text/plain": [
       "Text(0.5, 1.0, 'description_len')"
      ]
     },
     "execution_count": 60,
     "metadata": {},
     "output_type": "execute_result"
    },
    {
     "data": {
      "text/plain": [
       "count    113.000000\n",
       "mean      31.725664\n",
       "std       11.977097\n",
       "min       15.000000\n",
       "25%       23.000000\n",
       "50%       31.000000\n",
       "75%       38.000000\n",
       "max      112.000000\n",
       "Name: description_len, dtype: float64"
      ]
     },
     "execution_count": 60,
     "metadata": {},
     "output_type": "execute_result"
    },
    {
     "data": {
      "text/html": [
       "<div>\n",
       "<style scoped>\n",
       "    .dataframe tbody tr th:only-of-type {\n",
       "        vertical-align: middle;\n",
       "    }\n",
       "\n",
       "    .dataframe tbody tr th {\n",
       "        vertical-align: top;\n",
       "    }\n",
       "\n",
       "    .dataframe thead th {\n",
       "        text-align: right;\n",
       "    }\n",
       "</style>\n",
       "<table border=\"1\" class=\"dataframe\">\n",
       "  <thead>\n",
       "    <tr style=\"text-align: right;\">\n",
       "      <th></th>\n",
       "      <th>_id</th>\n",
       "      <th>theme</th>\n",
       "      <th>title</th>\n",
       "      <th>description</th>\n",
       "      <th>published_on</th>\n",
       "      <th>dayofyear</th>\n",
       "      <th>hourofday</th>\n",
       "      <th>title_len</th>\n",
       "      <th>description_len</th>\n",
       "    </tr>\n",
       "  </thead>\n",
       "  <tbody>\n",
       "    <tr>\n",
       "      <th>0</th>\n",
       "      <td>1</td>\n",
       "      <td>funding</td>\n",
       "      <td>Chinese Tesla rival Xpeng Motors in talks over...</td>\n",
       "      <td>Xpeng Motors, one of Tesla's rivals in China, ...</td>\n",
       "      <td>2020-07-31 15:41:00+00:00</td>\n",
       "      <td>213</td>\n",
       "      <td>15</td>\n",
       "      <td>18</td>\n",
       "      <td>36</td>\n",
       "    </tr>\n",
       "    <tr>\n",
       "      <th>1</th>\n",
       "      <td>2</td>\n",
       "      <td>funding</td>\n",
       "      <td>Wine.com Seeks Funding at Valuation of More Th...</td>\n",
       "      <td>Wine.com, an online retailer that lets custome...</td>\n",
       "      <td>2020-08-01 00:02:00+00:00</td>\n",
       "      <td>214</td>\n",
       "      <td>0</td>\n",
       "      <td>10</td>\n",
       "      <td>40</td>\n",
       "    </tr>\n",
       "    <tr>\n",
       "      <th>2</th>\n",
       "      <td>3</td>\n",
       "      <td>funding</td>\n",
       "      <td>Fenwick-Led Telehealth Co. Raises $33M As Indu...</td>\n",
       "      <td>Fenwick-advised telehealth platform Lemonaid H...</td>\n",
       "      <td>2020-07-31 22:36:00+00:00</td>\n",
       "      <td>213</td>\n",
       "      <td>22</td>\n",
       "      <td>8</td>\n",
       "      <td>34</td>\n",
       "    </tr>\n",
       "    <tr>\n",
       "      <th>3</th>\n",
       "      <td>4</td>\n",
       "      <td>funding</td>\n",
       "      <td>United Community Banks (NASDAQ:UCBI) Raised to...</td>\n",
       "      <td>United Community Banks (NASDAQ:UCBI) was upgra...</td>\n",
       "      <td>2020-08-01 06:29:00+00:00</td>\n",
       "      <td>214</td>\n",
       "      <td>6</td>\n",
       "      <td>9</td>\n",
       "      <td>40</td>\n",
       "    </tr>\n",
       "    <tr>\n",
       "      <th>4</th>\n",
       "      <td>5</td>\n",
       "      <td>funding</td>\n",
       "      <td>Golden West Food Group, Cooks Venture Raise $1...</td>\n",
       "      <td>PRNewswire/ -- Golden West Food Group and Cook...</td>\n",
       "      <td>2020-07-31 18:47:00+00:00</td>\n",
       "      <td>213</td>\n",
       "      <td>18</td>\n",
       "      <td>13</td>\n",
       "      <td>23</td>\n",
       "    </tr>\n",
       "    <tr>\n",
       "      <th>...</th>\n",
       "      <td>...</td>\n",
       "      <td>...</td>\n",
       "      <td>...</td>\n",
       "      <td>...</td>\n",
       "      <td>...</td>\n",
       "      <td>...</td>\n",
       "      <td>...</td>\n",
       "      <td>...</td>\n",
       "      <td>...</td>\n",
       "    </tr>\n",
       "    <tr>\n",
       "      <th>108</th>\n",
       "      <td>109</td>\n",
       "      <td>ipos</td>\n",
       "      <td>AlloVir raises $276M IPO to run broad cell the...</td>\n",
       "      <td>AlloVir has raised $276 million in an upsized ...</td>\n",
       "      <td>2020-07-31 12:25:00+00:00</td>\n",
       "      <td>213</td>\n",
       "      <td>12</td>\n",
       "      <td>10</td>\n",
       "      <td>42</td>\n",
       "    </tr>\n",
       "    <tr>\n",
       "      <th>109</th>\n",
       "      <td>110</td>\n",
       "      <td>ipos</td>\n",
       "      <td>Exclusive: SenseTime eyes STAR market IPO afte...</td>\n",
       "      <td>Chinese start-up SenseTime is considering an i...</td>\n",
       "      <td>2020-07-31 10:48:00+00:00</td>\n",
       "      <td>213</td>\n",
       "      <td>10</td>\n",
       "      <td>12</td>\n",
       "      <td>35</td>\n",
       "    </tr>\n",
       "    <tr>\n",
       "      <th>110</th>\n",
       "      <td>111</td>\n",
       "      <td>ipos</td>\n",
       "      <td>Vital Farms shares soar 63% in trading debut a...</td>\n",
       "      <td>Shares of ethical food company Vital Farms Inc...</td>\n",
       "      <td>2020-07-31 16:45:00+00:00</td>\n",
       "      <td>213</td>\n",
       "      <td>16</td>\n",
       "      <td>14</td>\n",
       "      <td>24</td>\n",
       "    </tr>\n",
       "    <tr>\n",
       "      <th>111</th>\n",
       "      <td>112</td>\n",
       "      <td>ipos</td>\n",
       "      <td>Conscious agribusiness Vital Farms goes public</td>\n",
       "      <td>You can find their eggs in Whole Foods, Walmar...</td>\n",
       "      <td>2020-07-31 20:26:00+00:00</td>\n",
       "      <td>213</td>\n",
       "      <td>20</td>\n",
       "      <td>6</td>\n",
       "      <td>23</td>\n",
       "    </tr>\n",
       "    <tr>\n",
       "      <th>112</th>\n",
       "      <td>113</td>\n",
       "      <td>ipos</td>\n",
       "      <td>ESSA Pharma Completes Public Offering for Aggr...</td>\n",
       "      <td>ESSA Pharma Inc. (\"ESSA\", or the \"Company\") (N...</td>\n",
       "      <td>2020-07-31 14:21:00+00:00</td>\n",
       "      <td>213</td>\n",
       "      <td>14</td>\n",
       "      <td>11</td>\n",
       "      <td>37</td>\n",
       "    </tr>\n",
       "  </tbody>\n",
       "</table>\n",
       "<p>113 rows × 9 columns</p>\n",
       "</div>"
      ],
      "text/plain": [
       "     _id    theme                                              title  \\\n",
       "0      1  funding  Chinese Tesla rival Xpeng Motors in talks over...   \n",
       "1      2  funding  Wine.com Seeks Funding at Valuation of More Th...   \n",
       "2      3  funding  Fenwick-Led Telehealth Co. Raises $33M As Indu...   \n",
       "3      4  funding  United Community Banks (NASDAQ:UCBI) Raised to...   \n",
       "4      5  funding  Golden West Food Group, Cooks Venture Raise $1...   \n",
       "..   ...      ...                                                ...   \n",
       "108  109     ipos  AlloVir raises $276M IPO to run broad cell the...   \n",
       "109  110     ipos  Exclusive: SenseTime eyes STAR market IPO afte...   \n",
       "110  111     ipos  Vital Farms shares soar 63% in trading debut a...   \n",
       "111  112     ipos     Conscious agribusiness Vital Farms goes public   \n",
       "112  113     ipos  ESSA Pharma Completes Public Offering for Aggr...   \n",
       "\n",
       "                                           description  \\\n",
       "0    Xpeng Motors, one of Tesla's rivals in China, ...   \n",
       "1    Wine.com, an online retailer that lets custome...   \n",
       "2    Fenwick-advised telehealth platform Lemonaid H...   \n",
       "3    United Community Banks (NASDAQ:UCBI) was upgra...   \n",
       "4    PRNewswire/ -- Golden West Food Group and Cook...   \n",
       "..                                                 ...   \n",
       "108  AlloVir has raised $276 million in an upsized ...   \n",
       "109  Chinese start-up SenseTime is considering an i...   \n",
       "110  Shares of ethical food company Vital Farms Inc...   \n",
       "111  You can find their eggs in Whole Foods, Walmar...   \n",
       "112  ESSA Pharma Inc. (\"ESSA\", or the \"Company\") (N...   \n",
       "\n",
       "                 published_on  dayofyear  hourofday  title_len  \\\n",
       "0   2020-07-31 15:41:00+00:00        213         15         18   \n",
       "1   2020-08-01 00:02:00+00:00        214          0         10   \n",
       "2   2020-07-31 22:36:00+00:00        213         22          8   \n",
       "3   2020-08-01 06:29:00+00:00        214          6          9   \n",
       "4   2020-07-31 18:47:00+00:00        213         18         13   \n",
       "..                        ...        ...        ...        ...   \n",
       "108 2020-07-31 12:25:00+00:00        213         12         10   \n",
       "109 2020-07-31 10:48:00+00:00        213         10         12   \n",
       "110 2020-07-31 16:45:00+00:00        213         16         14   \n",
       "111 2020-07-31 20:26:00+00:00        213         20          6   \n",
       "112 2020-07-31 14:21:00+00:00        213         14         11   \n",
       "\n",
       "     description_len  \n",
       "0                 36  \n",
       "1                 40  \n",
       "2                 34  \n",
       "3                 40  \n",
       "4                 23  \n",
       "..               ...  \n",
       "108               42  \n",
       "109               35  \n",
       "110               24  \n",
       "111               23  \n",
       "112               37  \n",
       "\n",
       "[113 rows x 9 columns]"
      ]
     },
     "execution_count": 60,
     "metadata": {},
     "output_type": "execute_result"
    },
    {
     "data": {
      "image/png": "[encoded data removed]",
      "text/plain": [
       "<Figure size 432x288 with 1 Axes>"
      ]
     },
     "metadata": {
      "needs_background": "light"
     },
     "output_type": "display_data"
    }
   ],
   "source": [
    "news_data_raw_v1.loc[:,'description_len']=news_data_raw_v1['description'].apply(lambda x: len(x.split()))\n",
    "sns.distplot(news_data_raw_v1['description_len']).set_title('description_len')\n",
    "news_data_raw_v1['description_len'].describe()\n",
    "news_data_raw_v1\n",
    "#description has min_word length\n",
    "# typical description is around 25-40 words"
   ]
  },
  {
   "cell_type": "code",
   "execution_count": null,
   "id": "spread-peeing",
   "metadata": {},
   "outputs": [],
   "source": []
  }
 ],
 "metadata": {
  "kernelspec": {
   "display_name": "customer",
   "language": "python",
   "name": "customer"
  },
  "language_info": {
   "codemirror_mode": {
    "name": "ipython",
    "version": 3
   },
   "file_extension": ".py",
   "mimetype": "text/x-python",
   "name": "python",
   "nbconvert_exporter": "python",
   "pygments_lexer": "ipython3",
   "version": "3.7.5"
  }
 },
 "nbformat": 4,
 "nbformat_minor": 5
}
